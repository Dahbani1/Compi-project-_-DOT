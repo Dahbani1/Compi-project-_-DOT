{
 "cells": [
  {
   "cell_type": "markdown",
   "metadata": {},
   "source": [
    "# Noising images"
   ]
  },
  {
   "cell_type": "code",
   "execution_count": null,
   "metadata": {
    "id": "67NQguIhfqEK"
   },
   "outputs": [],
   "source": [
    "import os\n",
    "import numpy as np\n",
    "from PIL import Image\n",
    "\n",
    "def add_awgn(image_path, noise_std=25):\n",
    "    # Open the image and convert it to a NumPy array\n",
    "    img = Image.open(image_path).convert(\"RGB\")\n",
    "    img_array = np.array(img).astype(np.float32)\n",
    "\n",
    "    # Generate Gaussian noise\n",
    "    noise = np.random.normal(0, noise_std, img_array.shape)\n",
    "\n",
    "    # Add noise to the image\n",
    "    noisy_img_array = img_array + noise\n",
    "\n",
    "    # Clip values to stay within the valid range [0, 255]\n",
    "    noisy_img_array = np.clip(noisy_img_array, 0, 255).astype(np.uint8)\n",
    "\n",
    "    # Convert back to an image\n",
    "    return Image.fromarray(noisy_img_array)\n",
    "\n",
    "# Folder containing images\n",
    "image_folder = r\"C:\\Users\\dahba\\Downloads\\COMPI\\10_clean_images_training_1\"\n",
    "output_folder = r\"C:\\Users\\dahba\\Downloads\\COMPI\\10_noisy_images_training_1\"\n",
    "\n",
    "# image_folder = r\"C:\\Users\\dahba\\Downloads\\COMPI\\10_clean_images_training_2\"\n",
    "# output_folder = r\"C:\\Users\\dahba\\Downloads\\COMPI\\10_noisy_images_training_2\"\n",
    "\n",
    "os.makedirs(output_folder, exist_ok=True)\n",
    "\n",
    "for filename in os.listdir(image_folder):\n",
    "    if filename.endswith(\".jpg\") or filename.endswith(\".png\"):\n",
    "        image_path = os.path.join(image_folder, filename)\n",
    "        noisy_image = add_awgn(image_path, noise_std=25)  # Adjust noise_std for different noise levels\n",
    "\n",
    "        # Save the noisy image\n",
    "        noisy_image.save(os.path.join(output_folder, f\"noisy_{filename}\"))"
   ]
  },
  {
   "cell_type": "markdown",
   "metadata": {},
   "source": [
    "# Restoring images"
   ]
  },
  {
   "cell_type": "code",
   "execution_count": 1,
   "metadata": {
    "colab": {
     "base_uri": "https://localhost:8080/"
    },
    "executionInfo": {
     "elapsed": 11837,
     "status": "ok",
     "timestamp": 1742886552696,
     "user": {
      "displayName": "MOHAMMED DAHBANI",
      "userId": "15400768686088509552"
     },
     "user_tz": -60
    },
    "id": "sbncm5y5iHrE",
    "outputId": "4bb25c1e-9f7b-4c0d-c051-39ad7654cf84"
   },
   "outputs": [],
   "source": [
    "import cv2\n",
    "import os\n",
    "\n",
    "# Path to the folder containing noisy images\n",
    "# input_folder = r'C:\\Users\\dahba\\Downloads\\COMPI\\10_noisy_images_training_1'\n",
    "# output_folder = r'C:\\Users\\dahba\\Downloads\\COMPI\\10_restored_images_training_1'\n",
    "\n",
    "input_folder = r'C:\\Users\\dahba\\Downloads\\COMPI\\10_noisy_images_training_2'\n",
    "output_folder = r'C:\\Users\\dahba\\Downloads\\COMPI\\10_restored_images_training_2'\n",
    "\n",
    "# Create output folder if it doesn't exist\n",
    "if not os.path.exists(output_folder):\n",
    "    os.makedirs(output_folder)\n",
    "\n",
    "# Iterate over each image in the folder\n",
    "for filename in os.listdir(input_folder):\n",
    "    input_image_path = os.path.join(input_folder, filename)\n",
    "\n",
    "    # Check if the file is an image\n",
    "    if filename.endswith(('.jpg')):\n",
    "        # Read the noisy image\n",
    "        image = cv2.imread(input_image_path)\n",
    "\n",
    "        # Denoise using GaussianBlur (or other denoising methods like Non-Local Means Denoising)\n",
    "        denoised_image = cv2.fastNlMeansDenoisingColored(image, None, 10, 10, 7, 21)\n",
    "\n",
    "        # Save the denoised image to the output folder\n",
    "        output_image_path = os.path.join(output_folder, f\"restored_{filename}\")\n",
    "        cv2.imwrite(output_image_path, denoised_image)\n",
    "\n",
    "        print(f'Denoised {filename} and saved to {output_folder}')"
   ]
  }
 ],
 "metadata": {
  "colab": {
   "authorship_tag": "ABX9TyPgVsPg2FSwzegjuyGO35uG",
   "mount_file_id": "1H_3SSTPqvuIAiTGGBNMMue_YkTVDyK8W",
   "provenance": []
  },
  "kernelspec": {
   "display_name": "Python 3",
   "name": "python3"
  },
  "language_info": {
   "name": "python"
  }
 },
 "nbformat": 4,
 "nbformat_minor": 0
}
